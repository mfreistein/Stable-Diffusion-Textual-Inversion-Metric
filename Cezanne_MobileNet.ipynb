{
 "cells": [
  {
   "cell_type": "markdown",
   "id": "b42220cd",
   "metadata": {},
   "source": [
    "__Libraries__"
   ]
  },
  {
   "cell_type": "code",
   "execution_count": 54,
   "id": "53eb327c",
   "metadata": {},
   "outputs": [],
   "source": [
    "import os\n",
    "import shutil\n",
    "import random\n",
    "from collections import Counter\n",
    "import numpy as np\n",
    "import itertools\n",
    "from sklearn.metrics import confusion_matrix\n",
    "from keras.preprocessing.image import ImageDataGenerator\n",
    "from keras.layers import Activation, Dense\n",
    "import tensorflow as tf\n",
    "from tensorflow.keras.models import Model\n",
    "import matplotlib.pyplot as plt"
   ]
  },
  {
   "cell_type": "markdown",
   "id": "fba54384",
   "metadata": {},
   "source": [
    "__Convolutional Neural Network Setup (MobileNet)__"
   ]
  },
  {
   "cell_type": "code",
   "execution_count": 55,
   "id": "8674a3b5",
   "metadata": {},
   "outputs": [],
   "source": [
    "file_location = os.getcwd()\n",
    "\n",
    "train_path = file_location+\"/data/train\"\n",
    "valid_path = file_location+\"/data/valid\"\n",
    "test_path = file_location+\"/data/test\"\n",
    "test_TI_SD1_path = file_location+\"/data/TISD1\"\n",
    "test_TI_SD2_path = file_location+\"/data/TISD2\"\n",
    "test_TI_SD3_path = file_location+\"/data/TISD3\"\n",
    "test_TI_SD4_path = file_location+\"/data/TISD4\""
   ]
  },
  {
   "cell_type": "code",
   "execution_count": 56,
   "id": "e36d6326",
   "metadata": {},
   "outputs": [
    {
     "name": "stdout",
     "output_type": "stream",
     "text": [
      "Found 330 images belonging to 5 classes.\n",
      "Found 75 images belonging to 5 classes.\n",
      "Found 25 images belonging to 5 classes.\n",
      "Found 100 images belonging to 1 classes.\n",
      "Found 100 images belonging to 1 classes.\n",
      "Found 100 images belonging to 1 classes.\n",
      "Found 100 images belonging to 1 classes.\n"
     ]
    }
   ],
   "source": [
    "train_batches = ImageDataGenerator(preprocessing_function = tf.keras.applications.efficientnet_v2.preprocess_input).flow_from_directory(directory=train_path, target_size=(224,224), batch_size=10)\n",
    "\n",
    "valid_batches = ImageDataGenerator(preprocessing_function = tf.keras.applications.efficientnet_v2.preprocess_input).flow_from_directory(directory=valid_path, target_size=(224,224), batch_size=10)\n",
    "\n",
    "test_batches = ImageDataGenerator(preprocessing_function = tf.keras.applications.efficientnet_v2.preprocess_input).flow_from_directory(directory=test_path,target_size=(224,224), batch_size=10, shuffle=False)\n",
    "\n",
    "TISD1_batches = ImageDataGenerator(preprocessing_function = tf.keras.applications.efficientnet_v2.preprocess_input).flow_from_directory(directory=test_TI_SD1_path,target_size=(224,224), batch_size=10, shuffle=False)\n",
    "\n",
    "TISD2_batches = ImageDataGenerator(preprocessing_function = tf.keras.applications.efficientnet_v2.preprocess_input).flow_from_directory(directory=test_TI_SD2_path,target_size=(224,224), batch_size=10, shuffle=False)\n",
    "\n",
    "TISD3_batches = ImageDataGenerator(preprocessing_function = tf.keras.applications.efficientnet_v2.preprocess_input).flow_from_directory(directory=test_TI_SD3_path,target_size=(224,224), batch_size=10, shuffle=False)\n",
    "\n",
    "TISD4_batches = ImageDataGenerator(preprocessing_function = tf.keras.applications.efficientnet_v2.preprocess_input).flow_from_directory(directory=test_TI_SD4_path,target_size=(224,224), batch_size=10, shuffle=False)"
   ]
  },
  {
   "cell_type": "code",
   "execution_count": 25,
   "id": "a9265dbf",
   "metadata": {},
   "outputs": [],
   "source": [
    "mobile = tf.keras.applications.mobilenet.MobileNet()\n",
    "#mobile.summary()"
   ]
  },
  {
   "cell_type": "code",
   "execution_count": 26,
   "id": "cc7d71fd",
   "metadata": {},
   "outputs": [],
   "source": [
    "x = mobile.layers[-1].output\n",
    "output = Dense(units=5, activation=\"softmax\")(x)"
   ]
  },
  {
   "cell_type": "code",
   "execution_count": 27,
   "id": "e0f3a6a2",
   "metadata": {},
   "outputs": [],
   "source": [
    "model = Model(inputs=mobile.input, outputs=output)"
   ]
  },
  {
   "cell_type": "code",
   "execution_count": 28,
   "id": "b29b7a61",
   "metadata": {},
   "outputs": [],
   "source": [
    "for layer in model.layers[:-23]:\n",
    "    layer.trainable = False"
   ]
  },
  {
   "cell_type": "code",
   "execution_count": 29,
   "id": "9dd33b99",
   "metadata": {
    "scrolled": false
   },
   "outputs": [
    {
     "name": "stdout",
     "output_type": "stream",
     "text": [
      "Model: \"model_1\"\n",
      "_________________________________________________________________\n",
      " Layer (type)                Output Shape              Param #   \n",
      "=================================================================\n",
      " input_2 (InputLayer)        [(None, 224, 224, 3)]     0         \n",
      "                                                                 \n",
      " conv1 (Conv2D)              (None, 112, 112, 32)      864       \n",
      "                                                                 \n",
      " conv1_bn (BatchNormalizatio  (None, 112, 112, 32)     128       \n",
      " n)                                                              \n",
      "                                                                 \n",
      " conv1_relu (ReLU)           (None, 112, 112, 32)      0         \n",
      "                                                                 \n",
      " conv_dw_1 (DepthwiseConv2D)  (None, 112, 112, 32)     288       \n",
      "                                                                 \n",
      " conv_dw_1_bn (BatchNormaliz  (None, 112, 112, 32)     128       \n",
      " ation)                                                          \n",
      "                                                                 \n",
      " conv_dw_1_relu (ReLU)       (None, 112, 112, 32)      0         \n",
      "                                                                 \n",
      " conv_pw_1 (Conv2D)          (None, 112, 112, 64)      2048      \n",
      "                                                                 \n",
      " conv_pw_1_bn (BatchNormaliz  (None, 112, 112, 64)     256       \n",
      " ation)                                                          \n",
      "                                                                 \n",
      " conv_pw_1_relu (ReLU)       (None, 112, 112, 64)      0         \n",
      "                                                                 \n",
      " conv_pad_2 (ZeroPadding2D)  (None, 113, 113, 64)      0         \n",
      "                                                                 \n",
      " conv_dw_2 (DepthwiseConv2D)  (None, 56, 56, 64)       576       \n",
      "                                                                 \n",
      " conv_dw_2_bn (BatchNormaliz  (None, 56, 56, 64)       256       \n",
      " ation)                                                          \n",
      "                                                                 \n",
      " conv_dw_2_relu (ReLU)       (None, 56, 56, 64)        0         \n",
      "                                                                 \n",
      " conv_pw_2 (Conv2D)          (None, 56, 56, 128)       8192      \n",
      "                                                                 \n",
      " conv_pw_2_bn (BatchNormaliz  (None, 56, 56, 128)      512       \n",
      " ation)                                                          \n",
      "                                                                 \n",
      " conv_pw_2_relu (ReLU)       (None, 56, 56, 128)       0         \n",
      "                                                                 \n",
      " conv_dw_3 (DepthwiseConv2D)  (None, 56, 56, 128)      1152      \n",
      "                                                                 \n",
      " conv_dw_3_bn (BatchNormaliz  (None, 56, 56, 128)      512       \n",
      " ation)                                                          \n",
      "                                                                 \n",
      " conv_dw_3_relu (ReLU)       (None, 56, 56, 128)       0         \n",
      "                                                                 \n",
      " conv_pw_3 (Conv2D)          (None, 56, 56, 128)       16384     \n",
      "                                                                 \n",
      " conv_pw_3_bn (BatchNormaliz  (None, 56, 56, 128)      512       \n",
      " ation)                                                          \n",
      "                                                                 \n",
      " conv_pw_3_relu (ReLU)       (None, 56, 56, 128)       0         \n",
      "                                                                 \n",
      " conv_pad_4 (ZeroPadding2D)  (None, 57, 57, 128)       0         \n",
      "                                                                 \n",
      " conv_dw_4 (DepthwiseConv2D)  (None, 28, 28, 128)      1152      \n",
      "                                                                 \n",
      " conv_dw_4_bn (BatchNormaliz  (None, 28, 28, 128)      512       \n",
      " ation)                                                          \n",
      "                                                                 \n",
      " conv_dw_4_relu (ReLU)       (None, 28, 28, 128)       0         \n",
      "                                                                 \n",
      " conv_pw_4 (Conv2D)          (None, 28, 28, 256)       32768     \n",
      "                                                                 \n",
      " conv_pw_4_bn (BatchNormaliz  (None, 28, 28, 256)      1024      \n",
      " ation)                                                          \n",
      "                                                                 \n",
      " conv_pw_4_relu (ReLU)       (None, 28, 28, 256)       0         \n",
      "                                                                 \n",
      " conv_dw_5 (DepthwiseConv2D)  (None, 28, 28, 256)      2304      \n",
      "                                                                 \n",
      " conv_dw_5_bn (BatchNormaliz  (None, 28, 28, 256)      1024      \n",
      " ation)                                                          \n",
      "                                                                 \n",
      " conv_dw_5_relu (ReLU)       (None, 28, 28, 256)       0         \n",
      "                                                                 \n",
      " conv_pw_5 (Conv2D)          (None, 28, 28, 256)       65536     \n",
      "                                                                 \n",
      " conv_pw_5_bn (BatchNormaliz  (None, 28, 28, 256)      1024      \n",
      " ation)                                                          \n",
      "                                                                 \n",
      " conv_pw_5_relu (ReLU)       (None, 28, 28, 256)       0         \n",
      "                                                                 \n",
      " conv_pad_6 (ZeroPadding2D)  (None, 29, 29, 256)       0         \n",
      "                                                                 \n",
      " conv_dw_6 (DepthwiseConv2D)  (None, 14, 14, 256)      2304      \n",
      "                                                                 \n",
      " conv_dw_6_bn (BatchNormaliz  (None, 14, 14, 256)      1024      \n",
      " ation)                                                          \n",
      "                                                                 \n",
      " conv_dw_6_relu (ReLU)       (None, 14, 14, 256)       0         \n",
      "                                                                 \n",
      " conv_pw_6 (Conv2D)          (None, 14, 14, 512)       131072    \n",
      "                                                                 \n",
      " conv_pw_6_bn (BatchNormaliz  (None, 14, 14, 512)      2048      \n",
      " ation)                                                          \n",
      "                                                                 \n",
      " conv_pw_6_relu (ReLU)       (None, 14, 14, 512)       0         \n",
      "                                                                 \n",
      " conv_dw_7 (DepthwiseConv2D)  (None, 14, 14, 512)      4608      \n",
      "                                                                 \n",
      " conv_dw_7_bn (BatchNormaliz  (None, 14, 14, 512)      2048      \n",
      " ation)                                                          \n",
      "                                                                 \n",
      " conv_dw_7_relu (ReLU)       (None, 14, 14, 512)       0         \n",
      "                                                                 \n",
      " conv_pw_7 (Conv2D)          (None, 14, 14, 512)       262144    \n",
      "                                                                 \n",
      " conv_pw_7_bn (BatchNormaliz  (None, 14, 14, 512)      2048      \n",
      " ation)                                                          \n",
      "                                                                 \n",
      " conv_pw_7_relu (ReLU)       (None, 14, 14, 512)       0         \n",
      "                                                                 \n",
      " conv_dw_8 (DepthwiseConv2D)  (None, 14, 14, 512)      4608      \n",
      "                                                                 \n",
      " conv_dw_8_bn (BatchNormaliz  (None, 14, 14, 512)      2048      \n",
      " ation)                                                          \n",
      "                                                                 \n",
      " conv_dw_8_relu (ReLU)       (None, 14, 14, 512)       0         \n",
      "                                                                 \n",
      " conv_pw_8 (Conv2D)          (None, 14, 14, 512)       262144    \n"
     ]
    },
    {
     "name": "stdout",
     "output_type": "stream",
     "text": [
      "                                                                 \n",
      " conv_pw_8_bn (BatchNormaliz  (None, 14, 14, 512)      2048      \n",
      " ation)                                                          \n",
      "                                                                 \n",
      " conv_pw_8_relu (ReLU)       (None, 14, 14, 512)       0         \n",
      "                                                                 \n",
      " conv_dw_9 (DepthwiseConv2D)  (None, 14, 14, 512)      4608      \n",
      "                                                                 \n",
      " conv_dw_9_bn (BatchNormaliz  (None, 14, 14, 512)      2048      \n",
      " ation)                                                          \n",
      "                                                                 \n",
      " conv_dw_9_relu (ReLU)       (None, 14, 14, 512)       0         \n",
      "                                                                 \n",
      " conv_pw_9 (Conv2D)          (None, 14, 14, 512)       262144    \n",
      "                                                                 \n",
      " conv_pw_9_bn (BatchNormaliz  (None, 14, 14, 512)      2048      \n",
      " ation)                                                          \n",
      "                                                                 \n",
      " conv_pw_9_relu (ReLU)       (None, 14, 14, 512)       0         \n",
      "                                                                 \n",
      " conv_dw_10 (DepthwiseConv2D  (None, 14, 14, 512)      4608      \n",
      " )                                                               \n",
      "                                                                 \n",
      " conv_dw_10_bn (BatchNormali  (None, 14, 14, 512)      2048      \n",
      " zation)                                                         \n",
      "                                                                 \n",
      " conv_dw_10_relu (ReLU)      (None, 14, 14, 512)       0         \n",
      "                                                                 \n",
      " conv_pw_10 (Conv2D)         (None, 14, 14, 512)       262144    \n",
      "                                                                 \n",
      " conv_pw_10_bn (BatchNormali  (None, 14, 14, 512)      2048      \n",
      " zation)                                                         \n",
      "                                                                 \n",
      " conv_pw_10_relu (ReLU)      (None, 14, 14, 512)       0         \n",
      "                                                                 \n",
      " conv_dw_11 (DepthwiseConv2D  (None, 14, 14, 512)      4608      \n",
      " )                                                               \n",
      "                                                                 \n",
      " conv_dw_11_bn (BatchNormali  (None, 14, 14, 512)      2048      \n",
      " zation)                                                         \n",
      "                                                                 \n",
      " conv_dw_11_relu (ReLU)      (None, 14, 14, 512)       0         \n",
      "                                                                 \n",
      " conv_pw_11 (Conv2D)         (None, 14, 14, 512)       262144    \n",
      "                                                                 \n",
      " conv_pw_11_bn (BatchNormali  (None, 14, 14, 512)      2048      \n",
      " zation)                                                         \n",
      "                                                                 \n",
      " conv_pw_11_relu (ReLU)      (None, 14, 14, 512)       0         \n",
      "                                                                 \n",
      " conv_pad_12 (ZeroPadding2D)  (None, 15, 15, 512)      0         \n",
      "                                                                 \n",
      " conv_dw_12 (DepthwiseConv2D  (None, 7, 7, 512)        4608      \n",
      " )                                                               \n",
      "                                                                 \n",
      " conv_dw_12_bn (BatchNormali  (None, 7, 7, 512)        2048      \n",
      " zation)                                                         \n",
      "                                                                 \n",
      " conv_dw_12_relu (ReLU)      (None, 7, 7, 512)         0         \n",
      "                                                                 \n",
      " conv_pw_12 (Conv2D)         (None, 7, 7, 1024)        524288    \n",
      "                                                                 \n",
      " conv_pw_12_bn (BatchNormali  (None, 7, 7, 1024)       4096      \n",
      " zation)                                                         \n",
      "                                                                 \n",
      " conv_pw_12_relu (ReLU)      (None, 7, 7, 1024)        0         \n",
      "                                                                 \n",
      " conv_dw_13 (DepthwiseConv2D  (None, 7, 7, 1024)       9216      \n",
      " )                                                               \n",
      "                                                                 \n",
      " conv_dw_13_bn (BatchNormali  (None, 7, 7, 1024)       4096      \n",
      " zation)                                                         \n",
      "                                                                 \n",
      " conv_dw_13_relu (ReLU)      (None, 7, 7, 1024)        0         \n",
      "                                                                 \n",
      " conv_pw_13 (Conv2D)         (None, 7, 7, 1024)        1048576   \n",
      "                                                                 \n",
      " conv_pw_13_bn (BatchNormali  (None, 7, 7, 1024)       4096      \n",
      " zation)                                                         \n",
      "                                                                 \n",
      " conv_pw_13_relu (ReLU)      (None, 7, 7, 1024)        0         \n",
      "                                                                 \n",
      " global_average_pooling2d_1   (None, 1, 1, 1024)       0         \n",
      " (GlobalAveragePooling2D)                                        \n",
      "                                                                 \n",
      " dropout (Dropout)           (None, 1, 1, 1024)        0         \n",
      "                                                                 \n",
      " conv_preds (Conv2D)         (None, 1, 1, 1000)        1025000   \n",
      "                                                                 \n",
      " reshape_2 (Reshape)         (None, 1000)              0         \n",
      "                                                                 \n",
      " predictions (Activation)    (None, 1000)              0         \n",
      "                                                                 \n",
      " dense_1 (Dense)             (None, 5)                 5005      \n",
      "                                                                 \n",
      "=================================================================\n",
      "Total params: 4,258,869\n",
      "Trainable params: 2,887,029\n",
      "Non-trainable params: 1,371,840\n",
      "_________________________________________________________________\n"
     ]
    }
   ],
   "source": [
    "model.summary()"
   ]
  },
  {
   "cell_type": "markdown",
   "id": "98413376",
   "metadata": {},
   "source": [
    "__Train model__"
   ]
  },
  {
   "cell_type": "code",
   "execution_count": 30,
   "id": "505f455c",
   "metadata": {},
   "outputs": [],
   "source": [
    "model.compile(optimizer=tf.keras.optimizers.Adam(learning_rate=0.0001), loss=\"categorical_crossentropy\", metrics=[\"accuracy\"])"
   ]
  },
  {
   "cell_type": "code",
   "execution_count": 31,
   "id": "d2645704",
   "metadata": {},
   "outputs": [
    {
     "name": "stdout",
     "output_type": "stream",
     "text": [
      "Epoch 1/50\n",
      "33/33 - 31s - loss: 1.6028 - accuracy: 0.3788 - val_loss: 1.6100 - val_accuracy: 0.2533 - 31s/epoch - 942ms/step\n",
      "Epoch 2/50\n",
      "33/33 - 19s - loss: 1.5710 - accuracy: 0.7242 - val_loss: 1.5976 - val_accuracy: 0.3200 - 19s/epoch - 584ms/step\n",
      "Epoch 3/50\n",
      "33/33 - 22s - loss: 1.5512 - accuracy: 0.8212 - val_loss: 1.5775 - val_accuracy: 0.4000 - 22s/epoch - 657ms/step\n",
      "Epoch 4/50\n",
      "33/33 - 19s - loss: 1.5401 - accuracy: 0.8485 - val_loss: 1.5711 - val_accuracy: 0.5333 - 19s/epoch - 586ms/step\n",
      "Epoch 5/50\n",
      "33/33 - 20s - loss: 1.5323 - accuracy: 0.8909 - val_loss: 1.5606 - val_accuracy: 0.5867 - 20s/epoch - 593ms/step\n",
      "Epoch 6/50\n",
      "33/33 - 19s - loss: 1.5235 - accuracy: 0.9030 - val_loss: 1.5602 - val_accuracy: 0.5733 - 19s/epoch - 585ms/step\n",
      "Epoch 7/50\n",
      "33/33 - 17s - loss: 1.5194 - accuracy: 0.9091 - val_loss: 1.5509 - val_accuracy: 0.6133 - 17s/epoch - 523ms/step\n",
      "Epoch 8/50\n",
      "33/33 - 28s - loss: 1.5141 - accuracy: 0.9121 - val_loss: 1.5507 - val_accuracy: 0.6267 - 28s/epoch - 847ms/step\n",
      "Epoch 9/50\n",
      "33/33 - 25s - loss: 1.5084 - accuracy: 0.9303 - val_loss: 1.5494 - val_accuracy: 0.6267 - 25s/epoch - 746ms/step\n",
      "Epoch 10/50\n",
      "33/33 - 18s - loss: 1.5037 - accuracy: 0.9182 - val_loss: 1.5525 - val_accuracy: 0.5733 - 18s/epoch - 541ms/step\n",
      "Epoch 11/50\n",
      "33/33 - 22s - loss: 1.4962 - accuracy: 0.9333 - val_loss: 1.5498 - val_accuracy: 0.5600 - 22s/epoch - 677ms/step\n",
      "Epoch 12/50\n",
      "33/33 - 20s - loss: 1.4909 - accuracy: 0.9242 - val_loss: 1.5371 - val_accuracy: 0.5867 - 20s/epoch - 620ms/step\n",
      "Epoch 13/50\n",
      "33/33 - 22s - loss: 1.4851 - accuracy: 0.9364 - val_loss: 1.5267 - val_accuracy: 0.6267 - 22s/epoch - 669ms/step\n",
      "Epoch 14/50\n",
      "33/33 - 21s - loss: 1.4806 - accuracy: 0.9333 - val_loss: 1.5239 - val_accuracy: 0.6133 - 21s/epoch - 644ms/step\n",
      "Epoch 15/50\n",
      "33/33 - 20s - loss: 1.4747 - accuracy: 0.9333 - val_loss: 1.5184 - val_accuracy: 0.6267 - 20s/epoch - 593ms/step\n",
      "Epoch 16/50\n",
      "33/33 - 19s - loss: 1.4711 - accuracy: 0.9333 - val_loss: 1.5132 - val_accuracy: 0.6400 - 19s/epoch - 569ms/step\n",
      "Epoch 17/50\n",
      "33/33 - 20s - loss: 1.4661 - accuracy: 0.9394 - val_loss: 1.5089 - val_accuracy: 0.6400 - 20s/epoch - 597ms/step\n",
      "Epoch 18/50\n",
      "33/33 - 20s - loss: 1.4620 - accuracy: 0.9364 - val_loss: 1.5136 - val_accuracy: 0.6267 - 20s/epoch - 611ms/step\n",
      "Epoch 19/50\n",
      "33/33 - 20s - loss: 1.4583 - accuracy: 0.9333 - val_loss: 1.5089 - val_accuracy: 0.6133 - 20s/epoch - 606ms/step\n",
      "Epoch 20/50\n",
      "33/33 - 21s - loss: 1.4559 - accuracy: 0.9273 - val_loss: 1.5214 - val_accuracy: 0.5467 - 21s/epoch - 623ms/step\n",
      "Epoch 21/50\n",
      "33/33 - 19s - loss: 1.4507 - accuracy: 0.9364 - val_loss: 1.5217 - val_accuracy: 0.5600 - 19s/epoch - 569ms/step\n",
      "Epoch 22/50\n",
      "33/33 - 16s - loss: 1.4452 - accuracy: 0.9455 - val_loss: 1.5149 - val_accuracy: 0.5467 - 16s/epoch - 493ms/step\n",
      "Epoch 23/50\n",
      "33/33 - 19s - loss: 1.4413 - accuracy: 0.9455 - val_loss: 1.5082 - val_accuracy: 0.6133 - 19s/epoch - 564ms/step\n",
      "Epoch 24/50\n",
      "33/33 - 18s - loss: 1.4387 - accuracy: 0.9424 - val_loss: 1.5047 - val_accuracy: 0.6267 - 18s/epoch - 560ms/step\n",
      "Epoch 25/50\n",
      "33/33 - 17s - loss: 1.4328 - accuracy: 0.9485 - val_loss: 1.5022 - val_accuracy: 0.6000 - 17s/epoch - 504ms/step\n",
      "Epoch 26/50\n",
      "33/33 - 18s - loss: 1.4296 - accuracy: 0.9394 - val_loss: 1.4881 - val_accuracy: 0.6533 - 18s/epoch - 548ms/step\n",
      "Epoch 27/50\n",
      "33/33 - 18s - loss: 1.4247 - accuracy: 0.9485 - val_loss: 1.4929 - val_accuracy: 0.6533 - 18s/epoch - 547ms/step\n",
      "Epoch 28/50\n",
      "33/33 - 19s - loss: 1.4212 - accuracy: 0.9485 - val_loss: 1.4767 - val_accuracy: 0.7600 - 19s/epoch - 562ms/step\n",
      "Epoch 29/50\n",
      "33/33 - 21s - loss: 1.4179 - accuracy: 0.9485 - val_loss: 1.4761 - val_accuracy: 0.7333 - 21s/epoch - 628ms/step\n",
      "Epoch 30/50\n",
      "33/33 - 23s - loss: 1.4133 - accuracy: 0.9515 - val_loss: 1.5072 - val_accuracy: 0.5733 - 23s/epoch - 690ms/step\n",
      "Epoch 31/50\n",
      "33/33 - 21s - loss: 1.4104 - accuracy: 0.9515 - val_loss: 1.4994 - val_accuracy: 0.6000 - 21s/epoch - 645ms/step\n",
      "Epoch 32/50\n",
      "33/33 - 25s - loss: 1.4070 - accuracy: 0.9515 - val_loss: 1.5270 - val_accuracy: 0.4800 - 25s/epoch - 754ms/step\n",
      "Epoch 33/50\n",
      "33/33 - 17s - loss: 1.4022 - accuracy: 0.9515 - val_loss: 1.5252 - val_accuracy: 0.5067 - 17s/epoch - 514ms/step\n",
      "Epoch 34/50\n",
      "33/33 - 18s - loss: 1.3980 - accuracy: 0.9545 - val_loss: 1.5065 - val_accuracy: 0.5467 - 18s/epoch - 556ms/step\n",
      "Epoch 35/50\n",
      "33/33 - 33s - loss: 1.3941 - accuracy: 0.9545 - val_loss: 1.4910 - val_accuracy: 0.5733 - 33s/epoch - 999ms/step\n",
      "Epoch 36/50\n",
      "33/33 - 31s - loss: 1.3912 - accuracy: 0.9545 - val_loss: 1.4705 - val_accuracy: 0.6400 - 31s/epoch - 940ms/step\n",
      "Epoch 37/50\n",
      "33/33 - 31s - loss: 1.3873 - accuracy: 0.9576 - val_loss: 1.4716 - val_accuracy: 0.6267 - 31s/epoch - 932ms/step\n",
      "Epoch 38/50\n",
      "33/33 - 30s - loss: 1.3832 - accuracy: 0.9636 - val_loss: 1.4587 - val_accuracy: 0.6933 - 30s/epoch - 911ms/step\n",
      "Epoch 39/50\n",
      "33/33 - 30s - loss: 1.3796 - accuracy: 0.9606 - val_loss: 1.4413 - val_accuracy: 0.7600 - 30s/epoch - 921ms/step\n",
      "Epoch 40/50\n",
      "33/33 - 31s - loss: 1.3763 - accuracy: 0.9606 - val_loss: 1.4401 - val_accuracy: 0.7200 - 31s/epoch - 951ms/step\n",
      "Epoch 41/50\n",
      "33/33 - 31s - loss: 1.3756 - accuracy: 0.9485 - val_loss: 1.4890 - val_accuracy: 0.5867 - 31s/epoch - 926ms/step\n",
      "Epoch 42/50\n",
      "33/33 - 31s - loss: 1.3683 - accuracy: 0.9606 - val_loss: 1.4912 - val_accuracy: 0.5867 - 31s/epoch - 925ms/step\n",
      "Epoch 43/50\n",
      "33/33 - 30s - loss: 1.3688 - accuracy: 0.9545 - val_loss: 1.4749 - val_accuracy: 0.5867 - 30s/epoch - 907ms/step\n",
      "Epoch 44/50\n",
      "33/33 - 30s - loss: 1.3621 - accuracy: 0.9636 - val_loss: 1.4562 - val_accuracy: 0.6400 - 30s/epoch - 921ms/step\n",
      "Epoch 45/50\n",
      "33/33 - 30s - loss: 1.3601 - accuracy: 0.9576 - val_loss: 1.4316 - val_accuracy: 0.7067 - 30s/epoch - 905ms/step\n",
      "Epoch 46/50\n",
      "33/33 - 30s - loss: 1.3543 - accuracy: 0.9667 - val_loss: 1.4153 - val_accuracy: 0.7733 - 30s/epoch - 914ms/step\n",
      "Epoch 47/50\n",
      "33/33 - 31s - loss: 1.3514 - accuracy: 0.9606 - val_loss: 1.4582 - val_accuracy: 0.6400 - 31s/epoch - 929ms/step\n",
      "Epoch 48/50\n",
      "33/33 - 30s - loss: 1.3461 - accuracy: 0.9667 - val_loss: 1.4418 - val_accuracy: 0.6667 - 30s/epoch - 898ms/step\n",
      "Epoch 49/50\n",
      "33/33 - 30s - loss: 1.3436 - accuracy: 0.9636 - val_loss: 1.4165 - val_accuracy: 0.7200 - 30s/epoch - 919ms/step\n",
      "Epoch 50/50\n",
      "33/33 - 31s - loss: 1.3403 - accuracy: 0.9636 - val_loss: 1.4243 - val_accuracy: 0.6800 - 31s/epoch - 940ms/step\n"
     ]
    }
   ],
   "source": [
    "history = model.fit(x=train_batches, validation_data=valid_batches, epochs=50, verbose = 2)"
   ]
  },
  {
   "cell_type": "code",
   "execution_count": 43,
   "id": "176a1f20",
   "metadata": {},
   "outputs": [
    {
     "data": {
      "image/png": "[encoded data removed]",
      "text/plain": [
       "<Figure size 432x288 with 1 Axes>"
      ]
     },
     "metadata": {
      "needs_background": "light"
     },
     "output_type": "display_data"
    }
   ],
   "source": [
    "loss = history.history['loss']\n",
    "val_loss = history.history['val_loss']\n",
    "epochs = range(1, len(loss) + 1)\n",
    "plt.plot(epochs, loss, 'y', label='Training loss')\n",
    "plt.plot(epochs, val_loss, 'r', label='Validation loss')\n",
    "plt.title('Training and validation loss')\n",
    "plt.xlabel('Epochs')\n",
    "plt.ylabel('Loss')\n",
    "plt.legend()\n",
    "plt.show()"
   ]
  },
  {
   "cell_type": "code",
   "execution_count": 44,
   "id": "17503b27",
   "metadata": {},
   "outputs": [
    {
     "data": {
      "image/png": "[encoded data removed]",
      "text/plain": [
       "<Figure size 432x288 with 1 Axes>"
      ]
     },
     "metadata": {
      "needs_background": "light"
     },
     "output_type": "display_data"
    }
   ],
   "source": [
    "acc = history.history['accuracy']\n",
    "val_acc = history.history['val_accuracy']\n",
    "plt.plot(epochs, acc, 'y', label='Training Accuracy')\n",
    "plt.plot(epochs, val_acc, 'r', label='Validation Accuracy')\n",
    "plt.title('Training and validation Accuracy')\n",
    "plt.xlabel('Epochs')\n",
    "plt.ylabel('Accuracy')\n",
    "plt.legend()\n",
    "plt.show()"
   ]
  },
  {
   "cell_type": "code",
   "execution_count": null,
   "id": "4ce268cc",
   "metadata": {},
   "outputs": [],
   "source": []
  },
  {
   "cell_type": "markdown",
   "id": "8d9df8b3",
   "metadata": {},
   "source": [
    "__Predictions for Test Data__"
   ]
  },
  {
   "cell_type": "code",
   "execution_count": 45,
   "id": "1ae10b76",
   "metadata": {},
   "outputs": [],
   "source": [
    "def plot_confusion_matrix(cm, classes, normalize=False, title=\"Confusion Matrix\", cmap=plt.cm.Blues):\n",
    "    plt.imshow(cm,interpolation=\"nearest\", cmap=cmap)\n",
    "    plt.title(title)\n",
    "    plt.colorbar()\n",
    "    tick_marks = np.arange(len(classes))\n",
    "    plt.xticks(tick_marks, classes, rotation=45)\n",
    "    plt.yticks(tick_marks, classes)\n",
    "    \n",
    "    if normalize:\n",
    "        cm=cm.astype(\"float\")/cm.sum(axis=1)[:, np.newaxis]\n",
    "        print(\"Normalized Confusion Matrix\")\n",
    "    else:\n",
    "        print(\"Confusion Matrix without normalization\")\n",
    "    \n",
    "    print(cm)\n",
    "    \n",
    "    thresh = cm.max() / 2.\n",
    "    for i, j in itertools.product(range(cm.shape[0]), range(cm.shape[1])):\n",
    "        plt.text(j,i,cm[i,j],\n",
    "                 horizontalalignment=\"center\",\n",
    "                 color=\"white\" if cm[i,j]>thresh else \"black\")\n",
    "    \n",
    "    plt.tight_layout()\n",
    "    plt.ylabel(\"True label\")\n",
    "    plt.xlabel(\"Predicted label\")"
   ]
  },
  {
   "cell_type": "code",
   "execution_count": 46,
   "id": "ba5e3b5f",
   "metadata": {},
   "outputs": [],
   "source": [
    "test_labels = test_batches.classes\n",
    "predictions = model.predict(x=test_batches, verbose = 0)"
   ]
  },
  {
   "cell_type": "code",
   "execution_count": 47,
   "id": "c6f85a3b",
   "metadata": {},
   "outputs": [
    {
     "name": "stdout",
     "output_type": "stream",
     "text": [
      "Confusion Matrix without normalization\n",
      "[[5 0 0 0 0]\n",
      " [1 1 0 3 0]\n",
      " [0 0 5 0 0]\n",
      " [0 0 0 5 0]\n",
      " [0 0 0 0 5]]\n"
     ]
    },
    {
     "data": {
      "image/png": "[encoded data removed]",
      "text/plain": [
       "<Figure size 432x288 with 2 Axes>"
      ]
     },
     "metadata": {
      "needs_background": "light"
     },
     "output_type": "display_data"
    }
   ],
   "source": [
    "cm = confusion_matrix(y_true=test_labels, y_pred=predictions.argmax(axis=1))\n",
    "#test_batches.class_indices\n",
    "cm_plot_labels = [\"0\",\"1\",\"2\",\"3\",\"4\"]\n",
    "plot_confusion_matrix(cm=cm, classes=cm_plot_labels, title=\"Confusion Matrix\")"
   ]
  },
  {
   "cell_type": "code",
   "execution_count": null,
   "id": "96a81e45",
   "metadata": {},
   "outputs": [],
   "source": []
  },
  {
   "cell_type": "markdown",
   "id": "d30ba1f6",
   "metadata": {},
   "source": [
    "__Predictions for Textual Inversion Trained Stable Diffusion 2 generated data__"
   ]
  },
  {
   "cell_type": "code",
   "execution_count": 57,
   "id": "e8b74e91",
   "metadata": {},
   "outputs": [],
   "source": [
    "#TISD1 were images created by Stable Diffusion with prompt: \"painting in the style of <Cezanne>\"\n",
    "TISD1_labels = TISD1_batches.classes"
   ]
  },
  {
   "cell_type": "code",
   "execution_count": 58,
   "id": "dcfbb2bb",
   "metadata": {},
   "outputs": [
    {
     "data": {
      "text/plain": [
       "Counter({4: 100})"
      ]
     },
     "execution_count": 58,
     "metadata": {},
     "output_type": "execute_result"
    }
   ],
   "source": [
    "predictions = model.predict(x=TISD1_batches, verbose = 0)\n",
    "Counter(predictions.argmax(axis=1))"
   ]
  },
  {
   "cell_type": "code",
   "execution_count": 59,
   "id": "81268016",
   "metadata": {},
   "outputs": [
    {
     "data": {
      "text/plain": [
       "array([[0.18048276, 0.16964364, 0.18202932, 0.18442175, 0.28342256],\n",
       "       [0.18052939, 0.1696456 , 0.18222396, 0.18443117, 0.2831698 ],\n",
       "       [0.18059397, 0.16965474, 0.18249115, 0.1844462 , 0.28281394],\n",
       "       [0.18050821, 0.16964805, 0.18213238, 0.1844281 , 0.28328326],\n",
       "       [0.18076709, 0.16968042, 0.18320425, 0.18448466, 0.28186363],\n",
       "       [0.18063779, 0.16966158, 0.18267246, 0.18445554, 0.28257266],\n",
       "       [0.18055381, 0.16965012, 0.18232562, 0.18443705, 0.28303343],\n",
       "       [0.18052673, 0.16964641, 0.18221638, 0.18443044, 0.28317994],\n",
       "       [0.1804824 , 0.16964045, 0.18203203, 0.18442103, 0.2834241 ],\n",
       "       [0.18047673, 0.1696385 , 0.18201247, 0.18441889, 0.28345343],\n",
       "       [0.18056059, 0.1696527 , 0.18234807, 0.18443982, 0.2829989 ],\n",
       "       [0.18049031, 0.16963975, 0.18206795, 0.18442191, 0.28338006],\n",
       "       [0.1805007 , 0.16964072, 0.18211247, 0.18442391, 0.28332224],\n",
       "       [0.18053046, 0.16964653, 0.1822305 , 0.18443173, 0.28316072],\n",
       "       [0.18053702, 0.16964594, 0.18226033, 0.18443221, 0.2831245 ],\n",
       "       [0.18048388, 0.1696437 , 0.18203717, 0.18442178, 0.28341356],\n",
       "       [0.1805183 , 0.1696431 , 0.18218324, 0.18442802, 0.28322738],\n",
       "       [0.18047862, 0.16963741, 0.18202247, 0.18441875, 0.2834427 ],\n",
       "       [0.18054551, 0.169652  , 0.18228415, 0.18443651, 0.28308183],\n",
       "       [0.18061227, 0.16966441, 0.1825563 , 0.18445288, 0.2827141 ],\n",
       "       [0.18077199, 0.16968256, 0.18322314, 0.18448624, 0.28183603],\n",
       "       [0.18056385, 0.16968168, 0.1823242 , 0.18445037, 0.28297985],\n",
       "       [0.18057203, 0.1696559 , 0.18239589, 0.18444237, 0.28293383],\n",
       "       [0.18049216, 0.16965336, 0.18205403, 0.18442804, 0.28337237],\n",
       "       [0.18050739, 0.16964827, 0.18212482, 0.18442887, 0.28329062],\n",
       "       [0.18056543, 0.16965133, 0.18237099, 0.18443947, 0.28297278],\n",
       "       [0.1805323 , 0.16964556, 0.18223976, 0.18443167, 0.28315073],\n",
       "       [0.18047225, 0.16963486, 0.18199939, 0.18441658, 0.28347692],\n",
       "       [0.18053494, 0.16965148, 0.18224059, 0.18443486, 0.2831381 ],\n",
       "       [0.18049341, 0.16964011, 0.18208076, 0.18442266, 0.2833631 ],\n",
       "       [0.18059632, 0.16965587, 0.18250069, 0.18444647, 0.28280064],\n",
       "       [0.18050195, 0.16964489, 0.18211128, 0.18442576, 0.28331614],\n",
       "       [0.18048759, 0.16963835, 0.18205985, 0.18442066, 0.28339353],\n",
       "       [0.18048866, 0.16963749, 0.18206613, 0.18442048, 0.28338727],\n",
       "       [0.18050385, 0.16964115, 0.18212487, 0.1844247 , 0.28330544],\n",
       "       [0.18047465, 0.16963702, 0.18200545, 0.18441808, 0.28346476],\n",
       "       [0.18053897, 0.16964658, 0.18226817, 0.18443291, 0.2831134 ],\n",
       "       [0.18050434, 0.16964732, 0.18211555, 0.18442789, 0.28330493],\n",
       "       [0.18046638, 0.16963395, 0.18197598, 0.1844151 , 0.28350863],\n",
       "       [0.18055125, 0.1696778 , 0.18228166, 0.1844457 , 0.28304356],\n",
       "       [0.18051854, 0.16964671, 0.18217707, 0.18442981, 0.28322786],\n",
       "       [0.18048073, 0.16963819, 0.18202987, 0.18441957, 0.2834316 ],\n",
       "       [0.18056227, 0.16964927, 0.18236521, 0.18443777, 0.28298545],\n",
       "       [0.18048525, 0.16964321, 0.18204083, 0.18442222, 0.2834085 ],\n",
       "       [0.18047124, 0.16963534, 0.18199459, 0.18441652, 0.28348228],\n",
       "       [0.18047048, 0.16963562, 0.1819912 , 0.18441646, 0.28348628],\n",
       "       [0.18049021, 0.16966149, 0.18204139, 0.18442886, 0.283378  ],\n",
       "       [0.18049073, 0.16964467, 0.18206146, 0.1844241 , 0.28337896],\n",
       "       [0.1805035 , 0.16964017, 0.18212572, 0.18442409, 0.2833065 ],\n",
       "       [0.1805454 , 0.16967003, 0.18226077, 0.18444197, 0.28308183],\n",
       "       [0.18050633, 0.16967186, 0.182101  , 0.18443471, 0.28328606],\n",
       "       [0.18046635, 0.16963407, 0.18197554, 0.18441519, 0.28350884],\n",
       "       [0.18054144, 0.16964585, 0.1822809 , 0.18443276, 0.2830991 ],\n",
       "       [0.180526  , 0.16965191, 0.18220115, 0.1844333 , 0.28318763],\n",
       "       [0.1804944 , 0.1696388 , 0.18208833, 0.18442199, 0.28335652],\n",
       "       [0.18047522, 0.16963688, 0.18200801, 0.18441814, 0.2834617 ],\n",
       "       [0.18051244, 0.16964372, 0.18215646, 0.18442747, 0.28325984],\n",
       "       [0.18047568, 0.16963929, 0.18200538, 0.18441921, 0.2834604 ],\n",
       "       [0.18053368, 0.16964905, 0.18223894, 0.18443409, 0.2831443 ],\n",
       "       [0.18047155, 0.16963524, 0.18199553, 0.18441664, 0.28348103],\n",
       "       [0.1805008 , 0.16964577, 0.18210249, 0.18442653, 0.28332445],\n",
       "       [0.18049084, 0.16963969, 0.18207003, 0.18442214, 0.28337735],\n",
       "       [0.18049245, 0.16964054, 0.18207623, 0.18442269, 0.28336805],\n",
       "       [0.18050736, 0.16964196, 0.1821382 , 0.18442577, 0.28328672],\n",
       "       [0.1804659 , 0.16963422, 0.18197274, 0.18441522, 0.28351188],\n",
       "       [0.18058081, 0.16965272, 0.18243842, 0.18444255, 0.28288543],\n",
       "       [0.18057437, 0.16965817, 0.18239973, 0.18444434, 0.28292343],\n",
       "       [0.18052004, 0.16964239, 0.18219383, 0.18442772, 0.28321597],\n",
       "       [0.18056269, 0.16966084, 0.18233979, 0.1844444 , 0.28299224],\n",
       "       [0.18049358, 0.16964738, 0.1820698 , 0.18442541, 0.28336376],\n",
       "       [0.1804884 , 0.16963801, 0.1820632 , 0.18442073, 0.28338966],\n",
       "       [0.18051445, 0.1696432 , 0.18216555, 0.18442795, 0.2832489 ],\n",
       "       [0.180512  , 0.16971609, 0.18208417, 0.18444794, 0.2832398 ],\n",
       "       [0.18052317, 0.1696653 , 0.18216985, 0.18443798, 0.2832037 ],\n",
       "       [0.1805197 , 0.16964513, 0.1821869 , 0.18442893, 0.28321928],\n",
       "       [0.18064007, 0.16966645, 0.18267056, 0.18445937, 0.28256354],\n",
       "       [0.18065341, 0.16966471, 0.18273316, 0.18445994, 0.2824888 ],\n",
       "       [0.18050878, 0.16969389, 0.18208712, 0.18444183, 0.2832684 ],\n",
       "       [0.18048844, 0.16964538, 0.18204828, 0.18442467, 0.28339326],\n",
       "       [0.18049482, 0.16963875, 0.18208992, 0.18442212, 0.2833544 ],\n",
       "       [0.18048108, 0.16963693, 0.1820328 , 0.18441917, 0.28343   ],\n",
       "       [0.18050401, 0.16964102, 0.18212567, 0.18442462, 0.28330457],\n",
       "       [0.18046868, 0.16963442, 0.18198448, 0.18441583, 0.28349656],\n",
       "       [0.18052065, 0.16964298, 0.1821932 , 0.18442816, 0.28321505],\n",
       "       [0.1804949 , 0.16963974, 0.18208767, 0.1844228 , 0.28335488],\n",
       "       [0.18050312, 0.1696438 , 0.18211368, 0.18442643, 0.28331292],\n",
       "       [0.1804774 , 0.16963702, 0.18201639, 0.18441865, 0.2834505 ],\n",
       "       [0.18055719, 0.16965216, 0.18233517, 0.18443896, 0.2830165 ],\n",
       "       [0.18048534, 0.1696389 , 0.18204738, 0.18442088, 0.2834075 ],\n",
       "       [0.1806613 , 0.16966543, 0.1827672 , 0.18446128, 0.28244478],\n",
       "       [0.18054104, 0.16964984, 0.18227085, 0.1844348 , 0.2831034 ],\n",
       "       [0.18047734, 0.1696362 , 0.18201868, 0.18441808, 0.28344968],\n",
       "       [0.18048346, 0.16963682, 0.1820445 , 0.18441923, 0.283416  ],\n",
       "       [0.18256916, 0.16989191, 0.19096448, 0.18483447, 0.27173996],\n",
       "       [0.18052475, 0.16964784, 0.18220463, 0.18443099, 0.28319177],\n",
       "       [0.1805292 , 0.16964522, 0.18222813, 0.18443051, 0.283167  ],\n",
       "       [0.18048885, 0.1696375 , 0.18206584, 0.18442048, 0.2833873 ],\n",
       "       [0.18046682, 0.1696338 , 0.18197817, 0.1844151 , 0.28350607],\n",
       "       [0.18067984, 0.16967484, 0.18283017, 0.1844692 , 0.28234592],\n",
       "       [0.18047701, 0.16964117, 0.18200715, 0.18442027, 0.2834544 ]],\n",
       "      dtype=float32)"
      ]
     },
     "execution_count": 59,
     "metadata": {},
     "output_type": "execute_result"
    }
   ],
   "source": [
    "predictions"
   ]
  },
  {
   "cell_type": "code",
   "execution_count": null,
   "id": "58bc3353",
   "metadata": {},
   "outputs": [],
   "source": []
  },
  {
   "cell_type": "code",
   "execution_count": 60,
   "id": "f0177303",
   "metadata": {},
   "outputs": [],
   "source": [
    "#TISD2 were images created by Stable Diffusion with prompt: \"landscape painting in the style of <Cezanne>\"\n",
    "TISD2_labels = TISD2_batches.classes"
   ]
  },
  {
   "cell_type": "code",
   "execution_count": 61,
   "id": "9214274f",
   "metadata": {},
   "outputs": [
    {
     "data": {
      "text/plain": [
       "Counter({4: 100})"
      ]
     },
     "execution_count": 61,
     "metadata": {},
     "output_type": "execute_result"
    }
   ],
   "source": [
    "predictions = model.predict(x=TISD2_batches, verbose = 0)\n",
    "Counter(predictions.argmax(axis=1))"
   ]
  },
  {
   "cell_type": "code",
   "execution_count": 62,
   "id": "ddd0f2e1",
   "metadata": {},
   "outputs": [
    {
     "data": {
      "text/plain": [
       "array([[0.18056248, 0.16979858, 0.18220125, 0.18448369, 0.28295404],\n",
       "       [0.18060908, 0.16985178, 0.18233572, 0.18451029, 0.28269315],\n",
       "       [0.1804843 , 0.16966516, 0.18199758, 0.18443193, 0.28342107],\n",
       "       [0.18165988, 0.17223592, 0.18457933, 0.1853655 , 0.2761594 ],\n",
       "       [0.18049939, 0.16964206, 0.18210535, 0.18442398, 0.28332916],\n",
       "       [0.18052597, 0.1696439 , 0.18221632, 0.1844295 , 0.28318435],\n",
       "       [0.18047564, 0.16963583, 0.18201312, 0.18441743, 0.28345802],\n",
       "       [0.1805337 , 0.1696815 , 0.18220603, 0.18444316, 0.28313565],\n",
       "       [0.18054019, 0.16979216, 0.18211655, 0.18447608, 0.28307506],\n",
       "       [0.1805652 , 0.16966952, 0.18234524, 0.18444636, 0.2829737 ],\n",
       "       [0.18047027, 0.16964294, 0.1819776 , 0.18441947, 0.2834897 ],\n",
       "       [0.18047202, 0.16965324, 0.18197235, 0.18442313, 0.2834793 ],\n",
       "       [0.18059786, 0.16965593, 0.18250619, 0.1844468 , 0.28279325],\n",
       "       [0.18053095, 0.16968854, 0.18217878, 0.1844448 , 0.28315693],\n",
       "       [0.18046387, 0.1696379 , 0.18196057, 0.18441589, 0.28352183],\n",
       "       [0.18050115, 0.16966462, 0.18208194, 0.18443218, 0.28332004],\n",
       "       [0.18053466, 0.16966414, 0.1822214 , 0.1844393 , 0.28314054],\n",
       "       [0.1804909 , 0.16964099, 0.18206783, 0.18442263, 0.28337765],\n",
       "       [0.18046828, 0.16963762, 0.18197678, 0.18441719, 0.28350013],\n",
       "       [0.18050586, 0.16964677, 0.18212512, 0.18442722, 0.283295  ],\n",
       "       [0.18056102, 0.16969667, 0.18229426, 0.18445428, 0.28299373],\n",
       "       [0.1804857 , 0.16964759, 0.18204302, 0.18442282, 0.28340083],\n",
       "       [0.18047212, 0.1696434 , 0.18198688, 0.18441959, 0.28347802],\n",
       "       [0.18047449, 0.16964069, 0.18200348, 0.18441857, 0.2834627 ],\n",
       "       [0.1805006 , 0.16969307, 0.18204248, 0.18444037, 0.2833235 ],\n",
       "       [0.1805129 , 0.16964635, 0.18215337, 0.18442877, 0.2832586 ],\n",
       "       [0.18047607, 0.1696361 , 0.18201363, 0.18441777, 0.28345644],\n",
       "       [0.18050332, 0.16964214, 0.182121  , 0.18442494, 0.2833086 ],\n",
       "       [0.18050468, 0.16974671, 0.18203153, 0.18445401, 0.28326303],\n",
       "       [0.18051103, 0.16970077, 0.18208158, 0.18444614, 0.28326043],\n",
       "       [0.18047217, 0.16963914, 0.18199062, 0.18441844, 0.28347966],\n",
       "       [0.18056348, 0.16969219, 0.1823083 , 0.1844521 , 0.28298384],\n",
       "       [0.18059145, 0.16988738, 0.18218468, 0.18452454, 0.28281197],\n",
       "       [0.1804719 , 0.16963494, 0.18199746, 0.1844165 , 0.28347918],\n",
       "       [0.1804852 , 0.16964094, 0.18204786, 0.18442081, 0.2834052 ],\n",
       "       [0.18057299, 0.169652  , 0.18240733, 0.18444054, 0.28292716],\n",
       "       [0.18167107, 0.17014918, 0.18663588, 0.18477885, 0.27676502],\n",
       "       [0.1805025 , 0.16965443, 0.1820938 , 0.18443081, 0.2833185 ],\n",
       "       [0.18049265, 0.16970716, 0.1820159 , 0.184441  , 0.28334332],\n",
       "       [0.18063833, 0.16986203, 0.18243934, 0.18452115, 0.28253913],\n",
       "       [0.18048422, 0.16963713, 0.18204759, 0.18441947, 0.28341162],\n",
       "       [0.1804793 , 0.16964859, 0.18200158, 0.18442398, 0.28344658],\n",
       "       [0.18049093, 0.16966146, 0.18204421, 0.18442921, 0.28337416],\n",
       "       [0.18053795, 0.16968164, 0.18220943, 0.18444812, 0.2831228 ],\n",
       "       [0.18047352, 0.16963999, 0.18199567, 0.1844191 , 0.28347173],\n",
       "       [0.18054916, 0.16965961, 0.18229593, 0.18443894, 0.28305635],\n",
       "       [0.18051687, 0.16970302, 0.18210565, 0.18444705, 0.28322744],\n",
       "       [0.18049537, 0.16967379, 0.18205322, 0.18443318, 0.2833444 ],\n",
       "       [0.18047404, 0.16963598, 0.18200485, 0.18441735, 0.2834678 ],\n",
       "       [0.18049766, 0.16970849, 0.18203449, 0.18444258, 0.28331676],\n",
       "       [0.18054491, 0.16966856, 0.1822567 , 0.18444325, 0.28308663],\n",
       "       [0.18053553, 0.16964582, 0.18225174, 0.18443261, 0.28313437],\n",
       "       [0.18064228, 0.16982408, 0.18252702, 0.18450387, 0.2825028 ],\n",
       "       [0.18050483, 0.1697151 , 0.182053  , 0.18444632, 0.28328073],\n",
       "       [0.18048637, 0.16965337, 0.18203244, 0.184426  , 0.2834018 ],\n",
       "       [0.18051356, 0.16964851, 0.18215185, 0.18443   , 0.2832561 ],\n",
       "       [0.1804736 , 0.16963552, 0.18200435, 0.184417  , 0.28346947],\n",
       "       [0.1807605 , 0.17025064, 0.18258151, 0.18465461, 0.28175274],\n",
       "       [0.18046428, 0.1696341 , 0.18196604, 0.18441491, 0.28352073],\n",
       "       [0.18057984, 0.16966991, 0.18240666, 0.18444963, 0.28289393],\n",
       "       [0.18047217, 0.16963558, 0.18199767, 0.18441702, 0.28347757],\n",
       "       [0.18052448, 0.16966088, 0.18218559, 0.18443555, 0.28319353],\n",
       "       [0.18084787, 0.16980371, 0.18337004, 0.18454058, 0.28143775],\n",
       "       [0.18049324, 0.16964276, 0.1820762 , 0.18442352, 0.28336418],\n",
       "       [0.18047678, 0.16964395, 0.18200684, 0.18442048, 0.28345197],\n",
       "       [0.1804952 , 0.16966787, 0.18204215, 0.18443485, 0.28335986],\n",
       "       [0.18047413, 0.16963919, 0.18199962, 0.1844188 , 0.28346825],\n",
       "       [0.18051252, 0.16966414, 0.18213391, 0.18443383, 0.28325564],\n",
       "       [0.18048558, 0.16965257, 0.18202886, 0.18442556, 0.28340742],\n",
       "       [0.18076314, 0.17014156, 0.18264318, 0.18463333, 0.28181875],\n",
       "       [0.18046446, 0.16963571, 0.18196541, 0.18441537, 0.283519  ],\n",
       "       [0.18048757, 0.16967279, 0.1820214 , 0.18443133, 0.28338695],\n",
       "       [0.18050657, 0.16964912, 0.18212333, 0.18442841, 0.28329256],\n",
       "       [0.18053682, 0.16978344, 0.18211368, 0.18447348, 0.28309256],\n",
       "       [0.18050979, 0.16969162, 0.18208455, 0.18444301, 0.28327098],\n",
       "       [0.18122861, 0.17159827, 0.18331966, 0.18511067, 0.27874276],\n",
       "       [0.18048906, 0.16964197, 0.18205492, 0.18442334, 0.28339064],\n",
       "       [0.18060334, 0.16966614, 0.18250233, 0.18445523, 0.28277305],\n",
       "       [0.18047751, 0.1696379 , 0.18201695, 0.18441875, 0.28344887],\n",
       "       [0.18049635, 0.1697025 , 0.18202616, 0.1844421 , 0.2833329 ],\n",
       "       [0.18058218, 0.16966994, 0.18241844, 0.1844494 , 0.28288007],\n",
       "       [0.18049686, 0.16963886, 0.18209927, 0.18442234, 0.28334263],\n",
       "       [0.18048434, 0.16964261, 0.18203878, 0.18442184, 0.28341243],\n",
       "       [0.18051058, 0.16973865, 0.18204328, 0.18445677, 0.28325066],\n",
       "       [0.18049471, 0.16964106, 0.1820867 , 0.18442291, 0.2833547 ],\n",
       "       [0.18048166, 0.16964626, 0.1820161 , 0.18442374, 0.28343228],\n",
       "       [0.18047751, 0.16964085, 0.18201162, 0.18442012, 0.2834499 ],\n",
       "       [0.18046826, 0.16963542, 0.18198085, 0.18441619, 0.28349924],\n",
       "       [0.18047455, 0.16963607, 0.18200728, 0.18441746, 0.2834646 ],\n",
       "       [0.18050463, 0.16963974, 0.18213183, 0.18442395, 0.28329983],\n",
       "       [0.18047842, 0.16966546, 0.18198873, 0.18442765, 0.28343976],\n",
       "       [0.18058236, 0.16991112, 0.18215156, 0.18452571, 0.28282925],\n",
       "       [0.18052502, 0.1696516 , 0.18219763, 0.18443269, 0.28319302],\n",
       "       [0.18048397, 0.16963995, 0.18204263, 0.18442051, 0.28341296],\n",
       "       [0.18047166, 0.16963822, 0.18199027, 0.18441804, 0.28348178],\n",
       "       [0.18047541, 0.16963847, 0.18200429, 0.18441889, 0.28346294],\n",
       "       [0.18050489, 0.1696416 , 0.18212844, 0.18442519, 0.28329983],\n",
       "       [0.18048516, 0.16964866, 0.18203276, 0.18442447, 0.283409  ],\n",
       "       [0.18051536, 0.16968781, 0.18211843, 0.18444192, 0.28323644],\n",
       "       [0.18047018, 0.16963604, 0.18198983, 0.18441644, 0.28348744]],\n",
       "      dtype=float32)"
      ]
     },
     "execution_count": 62,
     "metadata": {},
     "output_type": "execute_result"
    }
   ],
   "source": [
    "predictions"
   ]
  },
  {
   "cell_type": "code",
   "execution_count": null,
   "id": "82df0550",
   "metadata": {},
   "outputs": [],
   "source": []
  },
  {
   "cell_type": "code",
   "execution_count": 63,
   "id": "78588064",
   "metadata": {},
   "outputs": [],
   "source": [
    "#TISD3 were images created by Stable Diffusion with prompt: \"painting of the Provence in the style of <Cézanne>\"\n",
    "TISD3_labels = TISD3_batches.classes"
   ]
  },
  {
   "cell_type": "code",
   "execution_count": 64,
   "id": "810e3537",
   "metadata": {},
   "outputs": [
    {
     "data": {
      "text/plain": [
       "Counter({4: 100})"
      ]
     },
     "execution_count": 64,
     "metadata": {},
     "output_type": "execute_result"
    }
   ],
   "source": [
    "predictions = model.predict(x=TISD3_batches, verbose = 0)\n",
    "Counter(predictions.argmax(axis=1))"
   ]
  },
  {
   "cell_type": "code",
   "execution_count": 65,
   "id": "7a6e0ad9",
   "metadata": {},
   "outputs": [
    {
     "data": {
      "text/plain": [
       "array([[0.1807768 , 0.16969083, 0.18322682, 0.18449101, 0.28181452],\n",
       "       [0.18052487, 0.16964869, 0.18219529, 0.18443184, 0.28319937],\n",
       "       [0.18072546, 0.16967851, 0.18302085, 0.18447773, 0.28209746],\n",
       "       [0.18052126, 0.16964315, 0.18219653, 0.18442853, 0.28321055],\n",
       "       [0.18049343, 0.16965656, 0.1820598 , 0.18442824, 0.28336194],\n",
       "       [0.18049863, 0.1696398 , 0.18210433, 0.18442339, 0.28333387],\n",
       "       [0.18090615, 0.16970143, 0.18377627, 0.18451627, 0.28109992],\n",
       "       [0.18053119, 0.16964614, 0.18223336, 0.18443164, 0.2831577 ],\n",
       "       [0.18068066, 0.16990647, 0.18255706, 0.18454331, 0.28231254],\n",
       "       [0.18051225, 0.16974612, 0.18204726, 0.18445802, 0.28323632],\n",
       "       [0.18048146, 0.16963702, 0.1820345 , 0.18441924, 0.28342777],\n",
       "       [0.18047257, 0.16963682, 0.18199503, 0.18441793, 0.28347766],\n",
       "       [0.18112059, 0.16974275, 0.18465333, 0.18456694, 0.2799164 ],\n",
       "       [0.18062823, 0.16966109, 0.1826305 , 0.18445396, 0.28262624],\n",
       "       [0.18056977, 0.1696503 , 0.18239617, 0.18443945, 0.28294432],\n",
       "       [0.18046811, 0.16963737, 0.18197693, 0.18441713, 0.28350052],\n",
       "       [0.18051738, 0.16964611, 0.18217582, 0.18442902, 0.2832317 ],\n",
       "       [0.18048026, 0.1696376 , 0.1820282 , 0.18441914, 0.28343478],\n",
       "       [0.18073861, 0.16968079, 0.1830758 , 0.18448079, 0.2820241 ],\n",
       "       [0.18121724, 0.16974564, 0.18506773, 0.18458492, 0.27938446],\n",
       "       [0.1817591 , 0.16981123, 0.18738659, 0.1846919 , 0.27635115],\n",
       "       [0.18052179, 0.16965397, 0.18217976, 0.18443371, 0.28321075],\n",
       "       [0.18087564, 0.16970037, 0.18364492, 0.18451089, 0.28126824],\n",
       "       [0.180488  , 0.16963823, 0.18206212, 0.18442059, 0.28339112],\n",
       "       [0.18051015, 0.16964827, 0.18214251, 0.18442836, 0.2832707 ],\n",
       "       [0.18050389, 0.16965139, 0.1820979 , 0.18443084, 0.28331596],\n",
       "       [0.18047662, 0.16964489, 0.18199965, 0.18442191, 0.28345686],\n",
       "       [0.18055941, 0.16971342, 0.18224193, 0.18446445, 0.2830208 ],\n",
       "       [0.18047138, 0.16964981, 0.18197028, 0.18442279, 0.28348568],\n",
       "       [0.18062456, 0.16966146, 0.18260679, 0.18445471, 0.2826525 ],\n",
       "       [0.1805317 , 0.16964604, 0.1822361 , 0.18443167, 0.28315446],\n",
       "       [0.18049787, 0.16963892, 0.18210334, 0.18442257, 0.28333732],\n",
       "       [0.18079646, 0.16968758, 0.18332204, 0.18449207, 0.28170192],\n",
       "       [0.18049318, 0.16964115, 0.18207909, 0.18442266, 0.28336397],\n",
       "       [0.18047342, 0.1696477 , 0.1819809 , 0.18442267, 0.28347528],\n",
       "       [0.18053284, 0.16964741, 0.1822386 , 0.1844327 , 0.2831484 ],\n",
       "       [0.1805052 , 0.16964224, 0.18212888, 0.18442538, 0.2832983 ],\n",
       "       [0.18054758, 0.16966675, 0.18227513, 0.18444166, 0.28306893],\n",
       "       [0.18047819, 0.16963756, 0.18202004, 0.18441874, 0.28344548],\n",
       "       [0.18047535, 0.1696354 , 0.18201178, 0.1844173 , 0.28346008],\n",
       "       [0.18051803, 0.16964875, 0.18217404, 0.1844303 , 0.28322893],\n",
       "       [0.18058874, 0.16966225, 0.18244648, 0.18445161, 0.28285095],\n",
       "       [0.18049486, 0.16963936, 0.18208905, 0.18442242, 0.28335428],\n",
       "       [0.18053012, 0.16964561, 0.18222968, 0.18443118, 0.28316343],\n",
       "       [0.18077423, 0.16968547, 0.18322496, 0.18448849, 0.28182685],\n",
       "       [0.18073486, 0.1696751 , 0.18307309, 0.1844771 , 0.2820398 ],\n",
       "       [0.18064359, 0.16966313, 0.18268715, 0.18445793, 0.28254813],\n",
       "       [0.1806315 , 0.16969973, 0.18257628, 0.18447126, 0.28262123],\n",
       "       [0.1808054 , 0.16969518, 0.18333843, 0.18450043, 0.2816605 ],\n",
       "       [0.18059035, 0.16965531, 0.182474  , 0.18444522, 0.2828352 ],\n",
       "       [0.18060793, 0.169657  , 0.18254842, 0.18444888, 0.28273773],\n",
       "       [0.1804944 , 0.1696431 , 0.18207666, 0.18442501, 0.28336084],\n",
       "       [0.18054497, 0.169657  , 0.18227272, 0.18443945, 0.28308582],\n",
       "       [0.18048617, 0.16964047, 0.18204625, 0.1844219 , 0.28340515],\n",
       "       [0.18094635, 0.16971113, 0.18393296, 0.1845279 , 0.28088173],\n",
       "       [0.18055774, 0.16965812, 0.18232211, 0.18444248, 0.28301954],\n",
       "       [0.18049939, 0.16964233, 0.1821016 , 0.18442498, 0.28333172],\n",
       "       [0.18047407, 0.16963896, 0.18199928, 0.18441889, 0.28346878],\n",
       "       [0.1805051 , 0.169644  , 0.18212643, 0.18442611, 0.28329843],\n",
       "       [0.18047719, 0.16963752, 0.18201429, 0.18441896, 0.2834521 ],\n",
       "       [0.18052903, 0.16964479, 0.18222773, 0.1844306 , 0.28316787],\n",
       "       [0.18052846, 0.16964498, 0.18222374, 0.1844306 , 0.28317228],\n",
       "       [0.18054587, 0.16964643, 0.18229859, 0.18443412, 0.28307495],\n",
       "       [0.18057412, 0.16965283, 0.18241096, 0.18444116, 0.282921  ],\n",
       "       [0.18047188, 0.16963844, 0.18199077, 0.18441819, 0.28348073],\n",
       "       [0.18052237, 0.16964565, 0.18219583, 0.18443032, 0.28320587],\n",
       "       [0.18050078, 0.16964121, 0.1821122 , 0.18442394, 0.2833218 ],\n",
       "       [0.18056506, 0.16965117, 0.18236923, 0.18443978, 0.28297472],\n",
       "       [0.18046333, 0.1696336 , 0.1819636 , 0.18441439, 0.2835251 ],\n",
       "       [0.18053074, 0.16964504, 0.1822322 , 0.18443139, 0.28316066],\n",
       "       [0.18053515, 0.16965352, 0.18223797, 0.1844355 , 0.2831379 ],\n",
       "       [0.18052605, 0.16964497, 0.1822139 , 0.18443002, 0.28318503],\n",
       "       [0.18098667, 0.16971366, 0.18410873, 0.18453436, 0.2806566 ],\n",
       "       [0.18046394, 0.16963345, 0.18196604, 0.18441454, 0.28352204],\n",
       "       [0.18057773, 0.16965516, 0.1824197 , 0.18444312, 0.28290433],\n",
       "       [0.18049483, 0.16963913, 0.18208888, 0.18442233, 0.28335488],\n",
       "       [0.18058445, 0.16965505, 0.18244989, 0.18444435, 0.28286624],\n",
       "       [0.18047464, 0.16963714, 0.18200278, 0.18441872, 0.28346673],\n",
       "       [0.18066421, 0.16966413, 0.18278427, 0.18446071, 0.2824267 ],\n",
       "       [0.18057781, 0.16965471, 0.18242301, 0.18444264, 0.28290182],\n",
       "       [0.18053688, 0.16964668, 0.18225816, 0.18443272, 0.28312558],\n",
       "       [0.18092659, 0.16971207, 0.18385157, 0.1845233 , 0.28098643],\n",
       "       [0.1805277 , 0.16964552, 0.18222168, 0.18443035, 0.28317478],\n",
       "       [0.1805167 , 0.16964221, 0.18217872, 0.18442734, 0.28323495],\n",
       "       [0.18049136, 0.169643  , 0.18205826, 0.1844248 , 0.2833826 ],\n",
       "       [0.18055119, 0.16964895, 0.1823161 , 0.18443622, 0.28304753],\n",
       "       [0.18053211, 0.16965343, 0.18222773, 0.18443446, 0.28315228],\n",
       "       [0.18076271, 0.16967978, 0.18318734, 0.18448341, 0.28188676],\n",
       "       [0.18048956, 0.16965692, 0.18204229, 0.18442762, 0.28338358],\n",
       "       [0.18055369, 0.16964948, 0.1823263 , 0.18443654, 0.283034  ],\n",
       "       [0.18057966, 0.16980807, 0.18225677, 0.18449141, 0.28286412],\n",
       "       [0.18052702, 0.16964716, 0.18221225, 0.1844316 , 0.28318197],\n",
       "       [0.18051416, 0.1696447 , 0.18216158, 0.18442856, 0.283251  ],\n",
       "       [0.18105775, 0.1697251 , 0.1844051 , 0.18455008, 0.28026193],\n",
       "       [0.18048574, 0.16963698, 0.18205447, 0.1844198 , 0.283403  ],\n",
       "       [0.18047258, 0.1696364 , 0.18199779, 0.18441746, 0.2834758 ],\n",
       "       [0.18049568, 0.16964924, 0.18207262, 0.18442738, 0.2833551 ],\n",
       "       [0.1805209 , 0.16965257, 0.18217793, 0.18443279, 0.28321582],\n",
       "       [0.18049341, 0.16964039, 0.18207976, 0.18442295, 0.2833635 ],\n",
       "       [0.18050462, 0.16964188, 0.18212691, 0.18442507, 0.28330147]],\n",
       "      dtype=float32)"
      ]
     },
     "execution_count": 65,
     "metadata": {},
     "output_type": "execute_result"
    }
   ],
   "source": [
    "predictions"
   ]
  },
  {
   "cell_type": "code",
   "execution_count": null,
   "id": "ee1fdf4b",
   "metadata": {},
   "outputs": [],
   "source": []
  },
  {
   "cell_type": "code",
   "execution_count": 66,
   "id": "51785580",
   "metadata": {},
   "outputs": [],
   "source": [
    "#TISD4 were images created by Stable Diffusion with prompt: \"painting of Mont Saint Victoire in the style of <Cézanne>\"\n",
    "TISD4_labels = TISD4_batches.classes"
   ]
  },
  {
   "cell_type": "code",
   "execution_count": 67,
   "id": "1f790ee2",
   "metadata": {},
   "outputs": [
    {
     "data": {
      "text/plain": [
       "Counter({4: 96, 2: 4})"
      ]
     },
     "execution_count": 67,
     "metadata": {},
     "output_type": "execute_result"
    }
   ],
   "source": [
    "predictions = model.predict(x=TISD4_batches, verbose = 0)\n",
    "Counter(predictions.argmax(axis=1))"
   ]
  },
  {
   "cell_type": "code",
   "execution_count": 68,
   "id": "db67ea70",
   "metadata": {},
   "outputs": [
    {
     "data": {
      "text/plain": [
       "array([[0.1805729 , 0.1696529 , 0.18239555, 0.18444294, 0.2829358 ],\n",
       "       [0.18055297, 0.16964814, 0.18232612, 0.18443593, 0.2830369 ],\n",
       "       [0.19037324, 0.1689061 , 0.23684451, 0.18442148, 0.21945468],\n",
       "       [0.18316542, 0.16993596, 0.19369027, 0.18492487, 0.26828355],\n",
       "       [0.18048985, 0.1696466 , 0.18205473, 0.18442495, 0.28338385],\n",
       "       [0.18048412, 0.1696439 , 0.18202691, 0.18442504, 0.28342003],\n",
       "       [0.18065849, 0.1696684 , 0.18274255, 0.18446606, 0.28246444],\n",
       "       [0.18050124, 0.1696413 , 0.1821102 , 0.18442504, 0.28332227],\n",
       "       [0.18365693, 0.16996278, 0.19599973, 0.18498947, 0.26539114],\n",
       "       [0.18049736, 0.16963962, 0.18209939, 0.18442294, 0.2833407 ],\n",
       "       [0.18152985, 0.16978675, 0.1863942 , 0.18465051, 0.27763858],\n",
       "       [0.18116611, 0.16973911, 0.18485624, 0.18457378, 0.27966467],\n",
       "       [0.18078548, 0.1696893 , 0.18326293, 0.184495  , 0.28176734],\n",
       "       [0.18052958, 0.16964644, 0.182224  , 0.18443291, 0.28316703],\n",
       "       [0.18089451, 0.16970463, 0.18371224, 0.1845173 , 0.28117135],\n",
       "       [0.180731  , 0.16967459, 0.18305625, 0.1844762 , 0.28206202],\n",
       "       [0.18063435, 0.1696662 , 0.18263642, 0.18445873, 0.28260434],\n",
       "       [0.18123724, 0.16974653, 0.18516305, 0.18458724, 0.27926597],\n",
       "       [0.18214035, 0.16985062, 0.18905732, 0.18476112, 0.27419052],\n",
       "       [0.18046573, 0.16963594, 0.1819694 , 0.18441592, 0.283513  ],\n",
       "       [0.18166381, 0.16980751, 0.18694724, 0.18468261, 0.2768988 ],\n",
       "       [0.18054438, 0.16966131, 0.18225193, 0.18444218, 0.28310016],\n",
       "       [0.18070634, 0.16967316, 0.18294872, 0.18447265, 0.28219914],\n",
       "       [0.18110438, 0.16972978, 0.18460304, 0.18455894, 0.2800038 ],\n",
       "       [0.18062785, 0.16985254, 0.18212712, 0.18461968, 0.28277272],\n",
       "       [0.18048963, 0.16963899, 0.18206586, 0.18442167, 0.28338385],\n",
       "       [0.18056843, 0.16965409, 0.18237613, 0.1844421 , 0.2829593 ],\n",
       "       [0.18046379, 0.16963638, 0.1819597 , 0.18441594, 0.28352422],\n",
       "       [0.1804993 , 0.16964775, 0.18209194, 0.1844273 , 0.28333375],\n",
       "       [0.1809825 , 0.16971107, 0.18409817, 0.1845325 , 0.2806757 ],\n",
       "       [0.18064813, 0.1701045 , 0.18221335, 0.1846027 , 0.28243127],\n",
       "       [0.18048508, 0.16964084, 0.18204005, 0.18442224, 0.28341174],\n",
       "       [0.18073335, 0.16967645, 0.18305941, 0.18447834, 0.2820525 ],\n",
       "       [0.18049696, 0.16964018, 0.18209468, 0.18442364, 0.28334454],\n",
       "       [0.18057875, 0.16965383, 0.1824247 , 0.18444304, 0.2828996 ],\n",
       "       [0.18343547, 0.16995497, 0.19494121, 0.18496485, 0.2667035 ],\n",
       "       [0.19171634, 0.16811477, 0.24891365, 0.18371752, 0.20753779],\n",
       "       [0.18080395, 0.1696872 , 0.18335034, 0.18449393, 0.28166464],\n",
       "       [0.18052277, 0.16964287, 0.18220477, 0.18442847, 0.28320107],\n",
       "       [0.18057272, 0.1696598 , 0.18238112, 0.18444653, 0.28293988],\n",
       "       [0.18053536, 0.16964924, 0.18224534, 0.1844339 , 0.28313616],\n",
       "       [0.18050696, 0.16964133, 0.18213391, 0.1844254 , 0.28329235],\n",
       "       [0.18088628, 0.16970417, 0.18367106, 0.18451843, 0.28122008],\n",
       "       [0.18055521, 0.1696572 , 0.18231596, 0.18444085, 0.28303084],\n",
       "       [0.18223557, 0.16986969, 0.18944521, 0.18478805, 0.2736614 ],\n",
       "       [0.18046558, 0.1696394 , 0.18196613, 0.18441668, 0.2835123 ],\n",
       "       [0.1804708 , 0.16963437, 0.18199423, 0.18441604, 0.28348458],\n",
       "       [0.18049957, 0.16964038, 0.18210712, 0.18442391, 0.28332907],\n",
       "       [0.18055142, 0.16964792, 0.182319  , 0.18443562, 0.28304607],\n",
       "       [0.1809274 , 0.16970272, 0.18386985, 0.1845196 , 0.28098035],\n",
       "       [0.18057963, 0.16965233, 0.1824346 , 0.18444218, 0.28289124],\n",
       "       [0.18100172, 0.16971609, 0.18417029, 0.18453942, 0.28057253],\n",
       "       [0.18051484, 0.16964571, 0.18216152, 0.1844293 , 0.2832486 ],\n",
       "       [0.1804646 , 0.16963802, 0.1819598 , 0.18441685, 0.28352085],\n",
       "       [0.18058546, 0.16973606, 0.1823409 , 0.18447559, 0.28286207],\n",
       "       [0.18092354, 0.16970485, 0.18384235, 0.18452132, 0.28100792],\n",
       "       [0.1804838 , 0.16963765, 0.18204324, 0.18441999, 0.28341532],\n",
       "       [0.18061206, 0.16965902, 0.18256271, 0.18445086, 0.2827154 ],\n",
       "       [0.18046418, 0.16963455, 0.18196134, 0.1844155 , 0.28352442],\n",
       "       [0.18658277, 0.16989371, 0.21122587, 0.18514554, 0.24715218],\n",
       "       [0.18051101, 0.16964942, 0.18213505, 0.184432  , 0.28327248],\n",
       "       [0.18046845, 0.16963954, 0.1819703 , 0.18441875, 0.283503  ],\n",
       "       [0.18047045, 0.16963893, 0.18197638, 0.18441896, 0.28349528],\n",
       "       [0.18070734, 0.16967817, 0.1829331 , 0.18447764, 0.2822037 ],\n",
       "       [0.1804903 , 0.1696386 , 0.18207076, 0.1844213 , 0.28337902],\n",
       "       [0.18052661, 0.16978708, 0.18206422, 0.18447411, 0.28314796],\n",
       "       [0.18066388, 0.1696653 , 0.18277737, 0.18446165, 0.28243175],\n",
       "       [0.19269459, 0.1672558 , 0.25965858, 0.18291865, 0.19747232],\n",
       "       [0.18391159, 0.16997813, 0.19719338, 0.1850233 , 0.2638936 ],\n",
       "       [0.18050787, 0.169643  , 0.18213597, 0.18442722, 0.28328598],\n",
       "       [0.18058385, 0.16965197, 0.18245503, 0.18444234, 0.2828668 ],\n",
       "       [0.18547252, 0.16996875, 0.20512418, 0.18513179, 0.2543028 ],\n",
       "       [0.18145066, 0.1697775 , 0.18605287, 0.18463585, 0.2780831 ],\n",
       "       [0.18048829, 0.16964349, 0.18204544, 0.1844249 , 0.2833978 ],\n",
       "       [0.18047181, 0.16963609, 0.18199356, 0.18441771, 0.28348082],\n",
       "       [0.18084396, 0.16969275, 0.18351765, 0.18450359, 0.2814421 ],\n",
       "       [0.18048304, 0.16964152, 0.18202834, 0.18442258, 0.2834245 ],\n",
       "       [0.18047136, 0.1696357 , 0.18199174, 0.18441702, 0.2834842 ],\n",
       "       [0.1805363 , 0.16964912, 0.18224522, 0.18443666, 0.2831327 ],\n",
       "       [0.18070857, 0.1696722 , 0.1829617 , 0.18447183, 0.28218567],\n",
       "       [0.18529947, 0.16997603, 0.20420687, 0.18512574, 0.25539187],\n",
       "       [0.18049881, 0.1696414 , 0.18210007, 0.18442445, 0.28333524],\n",
       "       [0.1805049 , 0.16964419, 0.1821212 , 0.18442681, 0.2833028 ],\n",
       "       [0.18074276, 0.1696786 , 0.1830989 , 0.1844813 , 0.2819985 ],\n",
       "       [0.18063094, 0.16965964, 0.1826453 , 0.18445355, 0.2826105 ],\n",
       "       [0.18501012, 0.1700021 , 0.20263374, 0.18512496, 0.25722903],\n",
       "       [0.18713781, 0.16998447, 0.21360238, 0.18527639, 0.2439989 ],\n",
       "       [0.18159723, 0.16981551, 0.1865336 , 0.18469632, 0.27735728],\n",
       "       [0.18054284, 0.1696537 , 0.18225938, 0.1844402 , 0.28310385],\n",
       "       [0.18047541, 0.16965073, 0.18198954, 0.18442298, 0.28346136],\n",
       "       [0.18054047, 0.16964743, 0.18227047, 0.18443562, 0.28310603],\n",
       "       [0.18972768, 0.16917868, 0.23177804, 0.18464886, 0.2246668 ],\n",
       "       [0.18078943, 0.16968304, 0.18329826, 0.18448935, 0.28173992],\n",
       "       [0.1804978 , 0.16963914, 0.1821021 , 0.18442278, 0.28333816],\n",
       "       [0.18054558, 0.16964713, 0.18229492, 0.18443434, 0.28307804],\n",
       "       [0.18066423, 0.16966799, 0.18277128, 0.18446536, 0.28243113],\n",
       "       [0.18126434, 0.16974904, 0.18528013, 0.18459208, 0.27911437],\n",
       "       [0.18053657, 0.16964598, 0.18225704, 0.18443255, 0.28312793],\n",
       "       [0.18047398, 0.16964892, 0.18198526, 0.18442233, 0.28346956],\n",
       "       [0.18068954, 0.16967338, 0.18287346, 0.18447024, 0.28229335]],\n",
       "      dtype=float32)"
      ]
     },
     "execution_count": 68,
     "metadata": {},
     "output_type": "execute_result"
    }
   ],
   "source": [
    "predictions"
   ]
  },
  {
   "cell_type": "code",
   "execution_count": null,
   "id": "c825b2d9",
   "metadata": {},
   "outputs": [],
   "source": []
  }
 ],
 "metadata": {
  "kernelspec": {
   "display_name": "Python 3 (ipykernel)",
   "language": "python",
   "name": "python3"
  },
  "language_info": {
   "codemirror_mode": {
    "name": "ipython",
    "version": 3
   },
   "file_extension": ".py",
   "mimetype": "text/x-python",
   "name": "python",
   "nbconvert_exporter": "python",
   "pygments_lexer": "ipython3",
   "version": "3.9.7"
  },
  "toc": {
   "base_numbering": 1,
   "nav_menu": {},
   "number_sections": true,
   "sideBar": true,
   "skip_h1_title": false,
   "title_cell": "Table of Contents",
   "title_sidebar": "Contents",
   "toc_cell": false,
   "toc_position": {},
   "toc_section_display": true,
   "toc_window_display": false
  }
 },
 "nbformat": 4,
 "nbformat_minor": 5
}
