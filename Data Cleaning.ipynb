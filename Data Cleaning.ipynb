{
 "cells": [
  {
   "cell_type": "code",
   "execution_count": 1,
   "id": "e5cd8a00",
   "metadata": {},
   "outputs": [
    {
     "name": "stdout",
     "output_type": "stream",
     "text": [
      "File location using os.getcwd(): /Users/manuelfreistein/Desktop/Cezanne_Classification\n"
     ]
    }
   ],
   "source": [
    "import os\n",
    "import glob\n",
    "import shutil\n",
    "import random\n",
    "import itertools\n",
    "import numpy\n",
    "from numpy import asarray\n",
    "from imageio import imread\n",
    "from skimage.transform import resize\n",
    "import cv2\n",
    "\n",
    "file_location = os.getcwd()\n",
    "print(\"File location using os.getcwd():\", file_location)"
   ]
  },
  {
   "cell_type": "code",
   "execution_count": 15,
   "id": "0e0653f3",
   "metadata": {},
   "outputs": [],
   "source": [
    "#rename images by index\n",
    "\n",
    "path = file_location+'/data/0/'\n",
    "new_path = file_location+'/data/00/'\n",
    "\n",
    "files = os.listdir(path)\n",
    "\n",
    "for index, file in enumerate(files):\n",
    "    os.rename(os.path.join(path, file), os.path.join(new_path, ''.join([str(index), '.jpeg'])))\n",
    "\n"
   ]
  },
  {
   "cell_type": "code",
   "execution_count": 18,
   "id": "64e1484f",
   "metadata": {},
   "outputs": [],
   "source": [
    "#scale train/valid/test dataset images \n",
    "\n",
    "for image_class in range (0,5):\n",
    "    count = 0    \n",
    "    \n",
    "    images_path = glob.glob('./raw_data/curated_raw_dataset/'+str(image_class)+'/*.jpeg')\n",
    "\n",
    "    for i in images_path:  \n",
    "        img = imread(i)\n",
    "        img = cv2.cvtColor(img, cv2.COLOR_BGR2GRAY)\n",
    "        img = cv2.resize(img, (512, 512))\n",
    "        new_filename = file_location+\"/raw_data/SD_TexInv_scaled_gray/prompt_Cezanne/\"+str(count)+\".jpeg\" \n",
    "        cv2.imwrite(new_filename, img)\n",
    "        count = count+1 "
   ]
  },
  {
   "cell_type": "code",
   "execution_count": 6,
   "id": "8b9f4b8c",
   "metadata": {},
   "outputs": [],
   "source": [
    "#scale dataset images created by textual inversion to test cnn\n",
    "\n",
    "count = 0    \n",
    "\n",
    "#images_path = glob.glob('./raw_data/SD_TexInv/prompt_Cezanne/*.jpeg')\n",
    "#images_path = glob.glob('./raw_data/SD_TexInv/prompt_Cezanne_landscape_painting/*.jpeg')\n",
    "images_path = glob.glob('./raw_data/SD_TexInv/painting in the style of <Cezanne>/*.jpeg')\n",
    "#images_path = glob.glob('./raw_data/SD_TexInv/landscape painting in the style of <Cezanne>/*.jpeg')\n",
    "#images_path = glob.glob('./raw_data/SD_TexInv/painting of Mont Saint Victoire in the style of <Cézanne>/*.jpeg')\n",
    "#images_path = glob.glob('./raw_data/SD_TexInv/painting of the Provence in the style of <Cézanne>/*.jpeg')\n",
    "\n",
    "\n",
    "for i in images_path:  \n",
    "    img = imread(i)\n",
    "    img = cv2.cvtColor(img, cv2.COLOR_BGR2GRAY)\n",
    "    img = cv2.resize(img, (512, 512))\n",
    "    #new_filename = file_location+\"/raw_data/SD_TexInv_scaled_gray/prompt_Cezanne/\"+str(count)+\".jpeg\"\n",
    "    #new_filename = file_location+\"/raw_data/SD_TexInv_scaled_gray/prompt_Cezanne_landscape_painting/\"+str(count)+\".jpeg\"\n",
    "    new_filename = file_location+\"/raw_data/SD_TexInv_scaled_gray/painting in the style of <Cezanne>/\"+str(count)+\".jpeg\"\n",
    "    #new_filename = file_location+\"/raw_data/SD_TexInv_scaled_gray/landscape painting in the style of <Cezanne>/\"+str(count)+\".jpeg\"\n",
    "    #new_filename = file_location+\"/raw_data/SD_TexInv_scaled_gray/painting of Mont Saint Victoire in the style of <Cézanne>/\"+str(count)+\".jpeg\"\n",
    "    #new_filename = file_location+\"/raw_data/SD_TexInv_scaled_gray/painting of the Provence in the style of <Cézanne>/\"+str(count)+\".jpeg\"    \n",
    "    cv2.imwrite(new_filename, img)\n",
    "    count = count+1 "
   ]
  },
  {
   "cell_type": "code",
   "execution_count": null,
   "id": "e119b54c",
   "metadata": {},
   "outputs": [],
   "source": [
    "#Organize data into train, valid, test directories for training CNN\n",
    "#make sure to move raw_data to \"Cezanne_Classification/data\" file before proceeding\n",
    "\n",
    "os.chdir(file_location+\"/data\")\n",
    "\n",
    "if os.path.isdir(\"train/0/\") is False:\n",
    "    os.mkdir(\"train\")\n",
    "    os.mkdir(\"valid\")\n",
    "    os.mkdir(\"test\")\n",
    "    \n",
    "    for i in range(0,5):\n",
    "        shutil.move(f\"{i}\", \"train\")\n",
    "        os.mkdir(f\"valid/{i}\")\n",
    "        os.mkdir(f\"test/{i}\")\n",
    "        \n",
    "        valid_samples = random.sample(os.listdir(f\"train/{i}\"), 15)\n",
    "        for j in valid_samples:\n",
    "            shutil.move(f\"train/{i}/{j}\", f\"valid/{i}\")\n",
    "            \n",
    "        test_samples = random.sample(os.listdir(f\"train/{i}\"), 5)\n",
    "        for k in test_samples:\n",
    "            shutil.move(f\"train/{i}/{k}\", f\"test/{i}\")\n",
    "            \n",
    "os.chdir(\"../..\")\n",
    "        "
   ]
  }
 ],
 "metadata": {
  "kernelspec": {
   "display_name": "Python 3 (ipykernel)",
   "language": "python",
   "name": "python3"
  },
  "language_info": {
   "codemirror_mode": {
    "name": "ipython",
    "version": 3
   },
   "file_extension": ".py",
   "mimetype": "text/x-python",
   "name": "python",
   "nbconvert_exporter": "python",
   "pygments_lexer": "ipython3",
   "version": "3.9.7"
  },
  "toc": {
   "base_numbering": 1,
   "nav_menu": {},
   "number_sections": true,
   "sideBar": true,
   "skip_h1_title": false,
   "title_cell": "Table of Contents",
   "title_sidebar": "Contents",
   "toc_cell": false,
   "toc_position": {},
   "toc_section_display": true,
   "toc_window_display": false
  }
 },
 "nbformat": 4,
 "nbformat_minor": 5
}
